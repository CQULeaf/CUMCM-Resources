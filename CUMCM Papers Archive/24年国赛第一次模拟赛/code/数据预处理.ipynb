{
 "cells": [
  {
   "cell_type": "code",
   "execution_count": 1,
   "metadata": {},
   "outputs": [
    {
     "name": "stderr",
     "output_type": "stream",
     "text": [
      "Building prefix dict from the default dictionary ...\n",
      "Loading model from cache C:\\Users\\60938\\AppData\\Local\\Temp\\jieba.cache\n",
      "Loading model cost 0.706 seconds.\n",
      "Prefix dict has been built successfully.\n"
     ]
    },
    {
     "name": "stdout",
     "output_type": "stream",
     "text": [
      "0    目标 检测 计算机 视觉 中 一个 重要 问题 , 行人 跟踪 车牌 识别 无人驾驶 领域 ...\n",
      "1    目标 检测 计算机 视觉 一个 重要 研究 方向 , 目的 精确 识别 给定 图像 中 特定...\n",
      "2    目标 检测 计算机 视觉 中 核心 任务 , 智能 视频 监控 自动化 监测 工业 检测 领...\n",
      "3    路径 规划 移动机器人 热门 研究 , 实现 机器人 自主 导航 关键技术 移动机器人 路径...\n",
      "4    目标 检测 计算机 视觉 核心 , 图像识别 行人 检测 大规模 场景 识别 方面 具有 广...\n",
      "Name: tokenized_abstract, dtype: object\n"
     ]
    }
   ],
   "source": [
    "import pandas as pd\n",
    "import jieba\n",
    "\n",
    "data = pd.read_excel('带标签的论文摘要.xlsx')\n",
    "\n",
    "# 加载停用词表\n",
    "def load_stopwords(filepath):\n",
    "    with open(filepath, 'r', encoding='utf-8') as file:\n",
    "        stopwords = set(file.read().strip().split('\\n'))\n",
    "    return stopwords\n",
    "\n",
    "stopwords = load_stopwords('stopwords.txt')\n",
    "\n",
    "# 分词并去除停用词\n",
    "def jieba_tokenizer(text):\n",
    "    words = jieba.cut(text)\n",
    "    return ' '.join([word for word in words if word not in stopwords])\n",
    "\n",
    "data['tokenized_abstract'] = data['论文摘要'].apply(jieba_tokenizer)\n",
    "\n",
    "print(data['tokenized_abstract'].head())"
   ]
  },
  {
   "cell_type": "code",
   "execution_count": 2,
   "metadata": {},
   "outputs": [
    {
     "name": "stdout",
     "output_type": "stream",
     "text": [
      "(200, 2191) (200,)\n"
     ]
    }
   ],
   "source": [
    "# 使用TF-IDF向量化\n",
    "from sklearn.feature_extraction.text import TfidfVectorizer\n",
    "\n",
    "vectorizer = TfidfVectorizer()\n",
    "X = vectorizer.fit_transform(data['tokenized_abstract'])\n",
    "y = data['标签']\n",
    "\n",
    "print(X.shape, y.shape)"
   ]
  },
  {
   "cell_type": "code",
   "execution_count": 3,
   "metadata": {},
   "outputs": [
    {
     "name": "stdout",
     "output_type": "stream",
     "text": [
      "(200, 1000)\n"
     ]
    }
   ],
   "source": [
    "from sklearn.feature_selection import SelectKBest, chi2\n",
    "\n",
    "k = 1000\n",
    "selector = SelectKBest(chi2, k=k)\n",
    "X_kbest = selector.fit_transform(X, y)\n",
    "\n",
    "print(X_kbest.shape)"
   ]
  },
  {
   "cell_type": "code",
   "execution_count": 6,
   "metadata": {},
   "outputs": [
    {
     "name": "stdout",
     "output_type": "stream",
     "text": [
      "(200, 100)\n"
     ]
    }
   ],
   "source": [
    "from sklearn.decomposition import TruncatedSVD\n",
    "\n",
    "n_components = 100\n",
    "svd = TruncatedSVD(n_components=n_components)\n",
    "X_reduced = svd.fit_transform(X_kbest)\n",
    "\n",
    "print(X_reduced.shape)"
   ]
  },
  {
   "cell_type": "code",
   "execution_count": 7,
   "metadata": {},
   "outputs": [],
   "source": [
    "# 保存处理后的数据\n",
    "import numpy as np\n",
    "\n",
    "np.save('特征储存.npy', X_reduced)\n",
    "np.save('标签储存.npy', y.values)"
   ]
  }
 ],
 "metadata": {
  "kernelspec": {
   "display_name": "base",
   "language": "python",
   "name": "python3"
  },
  "language_info": {
   "codemirror_mode": {
    "name": "ipython",
    "version": 3
   },
   "file_extension": ".py",
   "mimetype": "text/x-python",
   "name": "python",
   "nbconvert_exporter": "python",
   "pygments_lexer": "ipython3",
   "version": "3.12.3"
  }
 },
 "nbformat": 4,
 "nbformat_minor": 2
}
