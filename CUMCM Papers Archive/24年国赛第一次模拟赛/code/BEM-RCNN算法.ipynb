{
 "cells": [
  {
   "cell_type": "code",
   "execution_count": 1,
   "metadata": {},
   "outputs": [
    {
     "name": "stderr",
     "output_type": "stream",
     "text": [
      "Building prefix dict from the default dictionary ...\n",
      "Loading model from cache C:\\Users\\60938\\AppData\\Local\\Temp\\jieba.cache\n",
      "Loading model cost 0.416 seconds.\n",
      "Prefix dict has been built successfully.\n"
     ]
    }
   ],
   "source": [
    "import pandas as pd\n",
    "import jieba\n",
    "from collections import Counter\n",
    "\n",
    "scholar_data = pd.read_excel('学者撰写的论文摘要.xlsx')\n",
    "ai_data = pd.read_excel('AI生成的论文摘要.xlsx')\n",
    "\n",
    "scholar_abstracts = scholar_data['论文摘要']\n",
    "ai_abstracts = ai_data['论文摘要']\n",
    "\n",
    "# 加载停用词表\n",
    "def load_stopwords(filepath):\n",
    "    with open(filepath, 'r', encoding='utf-8') as file:\n",
    "        stopwords = set(file.read().strip().split('\\n'))\n",
    "    return stopwords\n",
    "\n",
    "stopwords = load_stopwords('stopwords.txt')\n",
    "\n",
    "# 分词并去除停用词\n",
    "def jieba_tokenizer(text):\n",
    "    words = jieba.cut(text)\n",
    "    return ' '.join([word for word in words if word not in stopwords])\n",
    "\n",
    "scholar_abstracts = scholar_abstracts.apply(jieba_tokenizer)\n",
    "ai_abstracts = ai_abstracts.apply(jieba_tokenizer)"
   ]
  },
  {
   "cell_type": "code",
   "execution_count": 2,
   "metadata": {},
   "outputs": [
    {
     "name": "stderr",
     "output_type": "stream",
     "text": [
      "c:\\Python312\\Lib\\site-packages\\tqdm\\auto.py:21: TqdmWarning: IProgress not found. Please update jupyter and ipywidgets. See https://ipywidgets.readthedocs.io/en/stable/user_install.html\n",
      "  from .autonotebook import tqdm as notebook_tqdm\n"
     ]
    }
   ],
   "source": [
    "import torch\n",
    "import torch.nn as nn\n",
    "from transformers import BertModel, BertTokenizer\n",
    "\n",
    "class BEM(nn.Module):\n",
    "    def __init__(self, pretrained_model_name='bert-base-uncased'):\n",
    "        super(BEM, self).__init__()\n",
    "        self.bert = BertModel.from_pretrained(pretrained_model_name)\n",
    "    \n",
    "    def forward(self, input_ids, attention_mask, token_type_ids):\n",
    "        outputs = self.bert(input_ids=input_ids, \n",
    "                            attention_mask=attention_mask, \n",
    "                            token_type_ids=token_type_ids)\n",
    "        last_hidden_state = outputs.last_hidden_state\n",
    "        return last_hidden_state"
   ]
  },
  {
   "cell_type": "code",
   "execution_count": 4,
   "metadata": {},
   "outputs": [],
   "source": [
    "class RCNN(nn.Module):\n",
    "    def __init__(self, embed_size, hidden_size, num_layers, num_classes, dropout=0.5):\n",
    "        super(RCNN, self).__init__()\n",
    "        self.rnn = nn.LSTM(embed_size, hidden_size, num_layers, batch_first=True, bidirectional=True, dropout=dropout)\n",
    "        self.conv = nn.Conv1d(in_channels=hidden_size*2, out_channels=hidden_size*2, kernel_size=3, padding=1)\n",
    "        self.max_pool = nn.MaxPool1d(kernel_size=2)\n",
    "        self.fc = nn.Linear(hidden_size*2, num_classes)\n",
    "    \n",
    "    def forward(self, x):\n",
    "        # x: [batch_size, seq_length, embed_size]\n",
    "        h_rnn, _ = self.rnn(x)\n",
    "        # h_rnn: [batch_size, seq_length, hidden_size*2]\n",
    "        h_rnn = h_rnn.permute(0, 2, 1)\n",
    "        # h_rnn: [batch_size, hidden_size*2, seq_length]\n",
    "        h_conv = torch.relu(self.conv(h_rnn))\n",
    "        # h_conv: [batch_size, hidden_size*2, seq_length]\n",
    "        h_pool = self.max_pool(h_conv)\n",
    "        # h_pool: [batch_size, hidden_size*2, seq_length//2]\n",
    "        h_pool = h_pool.permute(0, 2, 1)\n",
    "        # h_pool: [batch_size, seq_length//2, hidden_size*2]\n",
    "        h_pool = torch.mean(h_pool, dim=1)\n",
    "        # h_pool: [batch_size, hidden_size*2]\n",
    "        output = self.fc(h_pool)\n",
    "        # output: [batch_size, num_classes]\n",
    "        return output\n",
    "\n",
    "embed_size = 768\n",
    "hidden_size = 256\n",
    "num_layers = 2\n",
    "num_classes = 10\n",
    "rcnn_model = RCNN(embed_size, hidden_size, num_layers, num_classes)\n",
    "\n",
    "batch_size = 2\n",
    "seq_length = 20\n",
    "dummy_embeddings = torch.randn(batch_size, seq_length, embed_size)\n",
    "\n",
    "output = rcnn_model(dummy_embeddings)"
   ]
  },
  {
   "cell_type": "code",
   "execution_count": 5,
   "metadata": {},
   "outputs": [
    {
     "name": "stderr",
     "output_type": "stream",
     "text": [
      "C:\\Users\\60938\\AppData\\Roaming\\Python\\Python312\\site-packages\\huggingface_hub\\file_download.py:159: UserWarning: `huggingface_hub` cache-system uses symlinks by default to efficiently store duplicated files but your machine does not support them in C:\\Users\\60938\\.cache\\huggingface\\hub\\models--bert-base-uncased. Caching files will still work but in a degraded version that might require more space on your disk. This warning can be disabled by setting the `HF_HUB_DISABLE_SYMLINKS_WARNING` environment variable. For more details, see https://huggingface.co/docs/huggingface_hub/how-to-cache#limitations.\n",
      "To support symlinks on Windows, you either need to activate Developer Mode or to run Python as an administrator. In order to see activate developer mode, see this article: https://docs.microsoft.com/en-us/windows/apps/get-started/enable-your-device-for-development\n",
      "  warnings.warn(message)\n"
     ]
    }
   ],
   "source": [
    "class BEM_RCNN(nn.Module):\n",
    "    def __init__(self, pretrained_model_name='bert-base-uncased', hidden_size=256, num_layers=2, num_classes=10, dropout=0.5):\n",
    "        super(BEM_RCNN, self).__init__()\n",
    "        self.bem = BEM(pretrained_model_name)\n",
    "        self.rcnn = RCNN(embed_size=768, hidden_size=hidden_size, num_layers=num_layers, num_classes=num_classes, dropout=dropout)\n",
    "    \n",
    "    def forward(self, input_ids, attention_mask, token_type_ids):\n",
    "        embeddings = self.bem(input_ids, attention_mask, token_type_ids)\n",
    "        output = self.rcnn(embeddings)\n",
    "        return output\n",
    "\n",
    "bwem_rcnn_model = BEM_RCNN()\n",
    "\n",
    "input_ids = torch.randint(0, 1000, (batch_size, seq_length))\n",
    "attention_mask = torch.ones(batch_size, seq_length)\n",
    "token_type_ids = torch.zeros(batch_size, seq_length)"
   ]
  },
  {
   "cell_type": "code",
   "execution_count": null,
   "metadata": {},
   "outputs": [],
   "source": [
    "import torch.optim as optim\n",
    "\n",
    "num_epochs = 10\n",
    "learning_rate = 1e-4\n",
    "\n",
    "model = BEM_RCNN()\n",
    "criterion = nn.CrossEntropyLoss()\n",
    "optimizer = optim.Adam(model.parameters(), lr=learning_rate)\n",
    "\n",
    "for epoch in range(num_epochs):\n",
    "    model.train()\n",
    "    optimizer.zero_grad()\n",
    "\n",
    "    outputs = model(input_ids, attention_mask, token_type_ids)\n",
    "    labels = torch.tensor([0, 1]) \n",
    "    loss = criterion(outputs, labels)\n",
    "\n",
    "    loss.backward()\n",
    "    optimizer.step()\n",
    "\n",
    "    print(f\"Epoch [{epoch+1}/{num_epochs}], Loss: {loss.item():.4f}\")\n",
    "\n",
    "torch.save(model.state_dict(), 'bem_rcnn_model.pth')"
   ]
  }
 ],
 "metadata": {
  "kernelspec": {
   "display_name": "Python 3",
   "language": "python",
   "name": "python3"
  },
  "language_info": {
   "codemirror_mode": {
    "name": "ipython",
    "version": 3
   },
   "file_extension": ".py",
   "mimetype": "text/x-python",
   "name": "python",
   "nbconvert_exporter": "python",
   "pygments_lexer": "ipython3",
   "version": "3.12.3"
  }
 },
 "nbformat": 4,
 "nbformat_minor": 2
}
